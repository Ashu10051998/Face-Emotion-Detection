{
  "nbformat": 4,
  "nbformat_minor": 0,
  "metadata": {
    "colab": {
      "name": "Untitled11.ipynb",
      "provenance": [],
      "mount_file_id": "1cs-kFyoT6G6tuIoLBxl_9XGEk21F3IR4",
      "authorship_tag": "ABX9TyN/NngHtr8E+44COHHuwWGA",
      "include_colab_link": true
    },
    "kernelspec": {
      "name": "python3",
      "display_name": "Python 3"
    },
    "language_info": {
      "name": "python"
    }
  },
  "cells": [
    {
      "cell_type": "markdown",
      "metadata": {
        "id": "view-in-github",
        "colab_type": "text"
      },
      "source": [
        "<a href=\"https://colab.research.google.com/github/Ashu10051998/Face-Emotion-Detection/blob/main/Untitled11.ipynb\" target=\"_parent\"><img src=\"https://colab.research.google.com/assets/colab-badge.svg\" alt=\"Open In Colab\"/></a>"
      ]
    },
    {
      "cell_type": "code",
      "metadata": {
        "id": "poTkB42Gb_N4"
      },
      "source": [
        "import tensorflow as tf\n",
        "import numpy as np\n",
        "import cv2\n",
        "\n",
        "import dlib\n",
        "import pickle"
      ],
      "execution_count": 1,
      "outputs": []
    },
    {
      "cell_type": "code",
      "metadata": {
        "id": "R3x4LP0PcAiJ"
      },
      "source": [
        "def get_model():\n",
        "    backbone = tf.keras.applications.EfficientNetB2(\n",
        "        input_shape=(96, 96, 3),\n",
        "        include_top=False,\n",
        "        weights=None\n",
        "    )\n",
        "    model = tf.keras.Sequential([\n",
        "        backbone,\n",
        "        tf.keras.layers.GlobalAveragePooling2D(),\n",
        "        tf.keras.layers.Dropout(0.3),\n",
        "        tf.keras.layers.Dense(128, activation='relu'),\n",
        "        tf.keras.layers.Dense(7, activation='softmax')\n",
        "    ])\n",
        "    return model"
      ],
      "execution_count": 2,
      "outputs": []
    },
    {
      "cell_type": "code",
      "metadata": {
        "id": "VTaa5J9dcAen"
      },
      "source": [
        "model = get_model()\n",
        "model.load_weights(\"/content/drive/MyDrive/Data/face recognition/best_weights.h5\") # Load the saved weights "
      ],
      "execution_count": 3,
      "outputs": []
    },
    {
      "cell_type": "code",
      "metadata": {
        "id": "NFz5sEkOi01-"
      },
      "source": [
        "# Load LabelEncoder \n",
        "def load_object(name):\n",
        "    pickle_obj = open(f\"{name}.pck\",\"rb\")\n",
        "    obj = pickle.load(pickle_obj)\n",
        "    return obj\n"
      ],
      "execution_count": 6,
      "outputs": []
    },
    {
      "cell_type": "code",
      "metadata": {
        "id": "gmgn7sNXcAYh"
      },
      "source": [
        "Le = load_object(\"/content/drive/MyDrive/Data/face recognition/LabelEncoder\")"
      ],
      "execution_count": 8,
      "outputs": []
    },
    {
      "cell_type": "code",
      "metadata": {
        "id": "YmH_sEUrcAVf"
      },
      "source": [
        "def ProcessImage(image):\n",
        "    image = tf.convert_to_tensor(image)\n",
        "    image = tf.image.resize(image , [96 , 96] , method=\"bilinear\")\n",
        "    image = tf.expand_dims(image , 0)\n",
        "    return image\n",
        "\n",
        "def RealtimePrediction(image , model, encoder_):\n",
        "    prediction = model.predict(image)\n",
        "    prediction = np.argmax(prediction , axis = 1)\n",
        "    return encoder_.inverse_transform(prediction)[0]\n",
        "\n",
        "def rect_to_bb(rect):\n",
        "    x = rect.left()\n",
        "    y = rect.top()\n",
        "    w = rect.right() - x\n",
        "    h = rect.bottom() - y\n",
        "    return (x, y, w, h)"
      ],
      "execution_count": 9,
      "outputs": []
    },
    {
      "cell_type": "code",
      "metadata": {
        "id": "WPVoU3LeoaGE"
      },
      "source": [
        "VideoCapture = cv2.VideoCapture(0)"
      ],
      "execution_count": 15,
      "outputs": []
    },
    {
      "cell_type": "code",
      "metadata": {
        "id": "D5m-Swk8cASZ"
      },
      "source": [
        "\n",
        "\n",
        "detector = dlib.get_frontal_face_detector()\n",
        "\n",
        "while True :\n",
        "    \n",
        "    ret , frame = VideoCapture.read() \n",
        "    \n",
        "    if not ret :\n",
        "        break\n",
        "\n",
        "    gray = cv2.cvtColor( frame , cv2.COLOR_BGR2GRAY)\n",
        "\n",
        "    rects = detector(gray , 0)\n",
        "\n",
        "    if len(rects) >= 1 :\n",
        "        for rect in rects :\n",
        "            (x , y , w , h) = rect_to_bb(rect)\n",
        "            img = gray[y-10 : y+h+10 , x-10 : x+w+10]\n",
        "            \n",
        "            if img.shape[0] == 0 or img.shape[1] == 0 :\n",
        "                cv2.imshow(\"Frame\", frame)\n",
        "                \n",
        "            else :\n",
        "                img = cv2.cvtColor(img , cv2.COLOR_GRAY2RGB)\n",
        "                img = ProcessImage(img)\n",
        "                out = RealtimePrediction(img , model , Le)\n",
        "                cv2.rectangle(frame, (x, y), (x+w, y+h),(0, 255, 0), 2)\n",
        "                z = y - 15 if y - 15 > 15 else y + 15\n",
        "                cv2.putText(frame, str(out), (x, z), cv2.FONT_HERSHEY_SIMPLEX,0.75, (0, 255, 0), 2)\n",
        "        cv2.imshow(\"Frame\", frame)\n",
        "            \n",
        "    else :\n",
        "        cv2.imshow(\"Frame\", frame)\n",
        "        \n",
        "    if cv2.waitKey(1) & 0xFF == ord('q'):\n",
        "        break\n",
        "        \n"
      ],
      "execution_count": 16,
      "outputs": []
    },
    {
      "cell_type": "code",
      "metadata": {
        "id": "8wRTt3OmcAPp"
      },
      "source": [
        "VideoCapture.release()"
      ],
      "execution_count": 14,
      "outputs": []
    },
    {
      "cell_type": "code",
      "metadata": {
        "id": "xjjqdj0tcAMi"
      },
      "source": [
        "cv2.destroyAllWindows()"
      ],
      "execution_count": null,
      "outputs": []
    },
    {
      "cell_type": "code",
      "metadata": {
        "id": "LY0o-MaocAJr"
      },
      "source": [
        ""
      ],
      "execution_count": null,
      "outputs": []
    },
    {
      "cell_type": "code",
      "metadata": {
        "id": "PBl0KuL5cAG6"
      },
      "source": [
        ""
      ],
      "execution_count": null,
      "outputs": []
    },
    {
      "cell_type": "code",
      "metadata": {
        "id": "mJIE8Q7LcAD_"
      },
      "source": [
        ""
      ],
      "execution_count": null,
      "outputs": []
    },
    {
      "cell_type": "code",
      "metadata": {
        "id": "-jjSTa63cAA4"
      },
      "source": [
        ""
      ],
      "execution_count": null,
      "outputs": []
    },
    {
      "cell_type": "code",
      "metadata": {
        "id": "hE8csJFvb_90"
      },
      "source": [
        ""
      ],
      "execution_count": null,
      "outputs": []
    },
    {
      "cell_type": "code",
      "metadata": {
        "id": "ixci7H_Vb_64"
      },
      "source": [
        ""
      ],
      "execution_count": null,
      "outputs": []
    }
  ]
}