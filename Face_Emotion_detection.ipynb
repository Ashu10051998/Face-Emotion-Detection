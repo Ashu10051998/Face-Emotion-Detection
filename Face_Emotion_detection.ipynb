{
  "nbformat": 4,
  "nbformat_minor": 0,
  "metadata": {
    "colab": {
      "name": "Face_Emotion_detection.ipynb",
      "provenance": [],
      "mount_file_id": "1WDhWFcsfiKGpuZXiEzX0CFOOatPEaJWS",
      "authorship_tag": "ABX9TyNENDS4PeWQnfp58rWtofkd",
      "include_colab_link": true
    },
    "kernelspec": {
      "name": "python3",
      "display_name": "Python 3"
    },
    "language_info": {
      "name": "python"
    }
  },
  "cells": [
    {
      "cell_type": "markdown",
      "metadata": {
        "id": "view-in-github",
        "colab_type": "text"
      },
      "source": [
        "<a href=\"https://colab.research.google.com/github/Ashu10051998/Face-Emotion-Detection/blob/main/Face_Emotion_detection.ipynb\" target=\"_parent\"><img src=\"https://colab.research.google.com/assets/colab-badge.svg\" alt=\"Open In Colab\"/></a>"
      ]
    },
    {
      "cell_type": "code",
      "metadata": {
        "id": "SKIOcXs857V_"
      },
      "source": [
        "url= https://www.dropbox.com/s/si11cws2pyho1bp/archive.zip"
      ],
      "execution_count": null,
      "outputs": []
    },
    {
      "cell_type": "code",
      "metadata": {
        "id": "kDIlkSLY6pRN"
      },
      "source": [
        "import matplotlib.pyplot as plt\n",
        "import numpy as np\n",
        "import pandas as pd\n",
        "import seaborn as sns\n",
        "import os"
      ],
      "execution_count": 2,
      "outputs": []
    },
    {
      "cell_type": "code",
      "metadata": {
        "id": "6EvEq3Im6uhR"
      },
      "source": [
        "from keras.preprocessing.image import load_img, img_to_array\n",
        "from keras.preprocessing.image import ImageDataGenerator\n",
        "from keras.layers import Dense,Input,Dropout,GlobalAveragePooling2D,Flatten,Conv2D,BatchNormalization,Activation,MaxPooling2D\n",
        "from keras.models import Model,Sequential\n"
      ],
      "execution_count": 3,
      "outputs": []
    },
    {
      "cell_type": "code",
      "metadata": {
        "id": "zGMBESgo6b30"
      },
      "source": [
        "import tensorflow as tf\n",
        "from pathlib import Path\n",
        "\n",
        "tf.random.set_seed(4)"
      ],
      "execution_count": 4,
      "outputs": []
    },
    {
      "cell_type": "code",
      "metadata": {
        "id": "4YmXUs5P6udw",
        "colab": {
          "base_uri": "https://localhost:8080/"
        },
        "outputId": "43374f5a-8428-43e6-e244-32c6137dd2df"
      },
      "source": [
        "!wget https://www.dropbox.com/s/si11cws2pyho1bp/archive.zip"
      ],
      "execution_count": 5,
      "outputs": [
        {
          "output_type": "stream",
          "name": "stdout",
          "text": [
            "--2021-09-16 15:08:17--  https://www.dropbox.com/s/si11cws2pyho1bp/archive.zip\n",
            "Resolving www.dropbox.com (www.dropbox.com)... 162.125.65.18, 2620:100:6027:18::a27d:4812\n",
            "Connecting to www.dropbox.com (www.dropbox.com)|162.125.65.18|:443... connected.\n",
            "HTTP request sent, awaiting response... 301 Moved Permanently\n",
            "Location: /s/raw/si11cws2pyho1bp/archive.zip [following]\n",
            "--2021-09-16 15:08:17--  https://www.dropbox.com/s/raw/si11cws2pyho1bp/archive.zip\n",
            "Reusing existing connection to www.dropbox.com:443.\n",
            "HTTP request sent, awaiting response... 302 Found\n",
            "Location: https://ucc9f3244d6f995762bfe8e6ce7a.dl.dropboxusercontent.com/cd/0/inline/BWSkP7z8m4CENVb0jL08Uy8tQdOoFrTK2r24WMg-Hjy8zeKvAoosAFGtpKj7TVc4pUnWI4Gk3fECiOJvFHpRv9-uUT2hV39wpV6b4MLcRn54LL-0G8cK74VuilIvbY9Cm0L48_4WMjbxstFQUJqP885u/file# [following]\n",
            "--2021-09-16 15:08:17--  https://ucc9f3244d6f995762bfe8e6ce7a.dl.dropboxusercontent.com/cd/0/inline/BWSkP7z8m4CENVb0jL08Uy8tQdOoFrTK2r24WMg-Hjy8zeKvAoosAFGtpKj7TVc4pUnWI4Gk3fECiOJvFHpRv9-uUT2hV39wpV6b4MLcRn54LL-0G8cK74VuilIvbY9Cm0L48_4WMjbxstFQUJqP885u/file\n",
            "Resolving ucc9f3244d6f995762bfe8e6ce7a.dl.dropboxusercontent.com (ucc9f3244d6f995762bfe8e6ce7a.dl.dropboxusercontent.com)... 162.125.64.15, 2620:100:6027:15::a27d:480f\n",
            "Connecting to ucc9f3244d6f995762bfe8e6ce7a.dl.dropboxusercontent.com (ucc9f3244d6f995762bfe8e6ce7a.dl.dropboxusercontent.com)|162.125.64.15|:443... connected.\n",
            "HTTP request sent, awaiting response... 302 Found\n",
            "Location: /cd/0/inline2/BWRnuCmv8UCkojXTKnlxPmKc1nWqwnjGmEctsGKtaMyTUSgmN9YU73LwT8fAlCXr8SrOTON5_pBwSyJFibpEajTlVQxNHFAvr2lqtOVh18FXknTSRyCGw7c0adBlwRcPBTQo8cKva0xC0J40Cif-DYJFiegfgQWVJGVi-1HzEgPDBghGoKTBLauqSj2JL5AvavwfdV95nDK8MwiT5MPjt0Wv_UGF9Ony7gmIxvz94UbEFD-kV9C649GJygSaN6kcx9WhOAQrTT5gwoCabPQmf0q2mm8nw5y7pO5UjqihXLLSDOjRunCfqiB6TKDtdwMS-Gn1UIu0NK2aTkfVDsJ-li6-J8sFDVoqSepIjDxxgXwkFG1pEq2SnTitDOUGcyTpU68/file [following]\n",
            "--2021-09-16 15:08:17--  https://ucc9f3244d6f995762bfe8e6ce7a.dl.dropboxusercontent.com/cd/0/inline2/BWRnuCmv8UCkojXTKnlxPmKc1nWqwnjGmEctsGKtaMyTUSgmN9YU73LwT8fAlCXr8SrOTON5_pBwSyJFibpEajTlVQxNHFAvr2lqtOVh18FXknTSRyCGw7c0adBlwRcPBTQo8cKva0xC0J40Cif-DYJFiegfgQWVJGVi-1HzEgPDBghGoKTBLauqSj2JL5AvavwfdV95nDK8MwiT5MPjt0Wv_UGF9Ony7gmIxvz94UbEFD-kV9C649GJygSaN6kcx9WhOAQrTT5gwoCabPQmf0q2mm8nw5y7pO5UjqihXLLSDOjRunCfqiB6TKDtdwMS-Gn1UIu0NK2aTkfVDsJ-li6-J8sFDVoqSepIjDxxgXwkFG1pEq2SnTitDOUGcyTpU68/file\n",
            "Reusing existing connection to ucc9f3244d6f995762bfe8e6ce7a.dl.dropboxusercontent.com:443.\n",
            "HTTP request sent, awaiting response... 200 OK\n",
            "Length: 63252113 (60M) [application/zip]\n",
            "Saving to: ‘archive.zip’\n",
            "\n",
            "archive.zip         100%[===================>]  60.32M  13.3MB/s    in 4.8s    \n",
            "\n",
            "2021-09-16 15:08:23 (12.6 MB/s) - ‘archive.zip’ saved [63252113/63252113]\n",
            "\n"
          ]
        }
      ]
    },
    {
      "cell_type": "code",
      "metadata": {
        "id": "MSVbtxGLwhen"
      },
      "source": [
        "!unzip -q \"/content/archive.zip\""
      ],
      "execution_count": 6,
      "outputs": []
    },
    {
      "cell_type": "code",
      "metadata": {
        "id": "uomR8dQZJ5Zb"
      },
      "source": [
        "train_path = Path(\"/content/train\")\n",
        "test_path = Path(\"/content/test\")"
      ],
      "execution_count": 9,
      "outputs": []
    },
    {
      "cell_type": "code",
      "metadata": {
        "id": "OL44awN26uau",
        "colab": {
          "base_uri": "https://localhost:8080/"
        },
        "outputId": "08d33651-df48-47b6-f6e3-41563cfdc3c5"
      },
      "source": [
        "train_image_paths = list(train_path.glob(\"*/*\"))\n",
        "train_image_paths = list(map(lambda x : str(x) , train_image_paths))\n",
        "\n",
        "train_image_paths[:10]"
      ],
      "execution_count": 10,
      "outputs": [
        {
          "output_type": "execute_result",
          "data": {
            "text/plain": [
              "['/content/train/neutral/Training_57074106.jpg',\n",
              " '/content/train/neutral/Training_4679433.jpg',\n",
              " '/content/train/neutral/Training_99339110.jpg',\n",
              " '/content/train/neutral/Training_26220773.jpg',\n",
              " '/content/train/neutral/Training_24212024.jpg',\n",
              " '/content/train/neutral/Training_70623999.jpg',\n",
              " '/content/train/neutral/Training_34289515.jpg',\n",
              " '/content/train/neutral/Training_69405202.jpg',\n",
              " '/content/train/neutral/Training_31924948.jpg',\n",
              " '/content/train/neutral/Training_61929223.jpg']"
            ]
          },
          "metadata": {},
          "execution_count": 10
        }
      ]
    },
    {
      "cell_type": "code",
      "metadata": {
        "id": "dibvOj_n6uRP",
        "colab": {
          "base_uri": "https://localhost:8080/"
        },
        "outputId": "2f7fae87-174b-4d3b-f6bb-5380664b4ef3"
      },
      "source": [
        "# Getting their respective labels \n",
        "\n",
        "def get_label(image_path):\n",
        "    return image_path.split(\"/\")[-2]\n",
        "\n",
        "train_image_labels = list(map(lambda x : get_label(x) , train_image_paths))\n",
        "train_image_labels[:10]"
      ],
      "execution_count": 11,
      "outputs": [
        {
          "output_type": "execute_result",
          "data": {
            "text/plain": [
              "['neutral',\n",
              " 'neutral',\n",
              " 'neutral',\n",
              " 'neutral',\n",
              " 'neutral',\n",
              " 'neutral',\n",
              " 'neutral',\n",
              " 'neutral',\n",
              " 'neutral',\n",
              " 'neutral']"
            ]
          },
          "metadata": {},
          "execution_count": 11
        }
      ]
    },
    {
      "cell_type": "code",
      "metadata": {
        "id": "SZO0DL5R6uOg"
      },
      "source": [
        "from sklearn.preprocessing import LabelEncoder "
      ],
      "execution_count": 12,
      "outputs": []
    },
    {
      "cell_type": "code",
      "metadata": {
        "id": "ChicHHpj6uLA"
      },
      "source": [
        "le = LabelEncoder()"
      ],
      "execution_count": 13,
      "outputs": []
    },
    {
      "cell_type": "code",
      "metadata": {
        "id": "zsl91Ul16uIv",
        "colab": {
          "base_uri": "https://localhost:8080/"
        },
        "outputId": "cdd1a0ed-63d1-47dd-a838-68f5e86fbc40"
      },
      "source": [
        "train_labels = le.fit_transform(train_image_labels)\n",
        "train_labels[:10]"
      ],
      "execution_count": 18,
      "outputs": [
        {
          "output_type": "execute_result",
          "data": {
            "text/plain": [
              "array([4, 4, 4, 4, 4, 4, 4, 4, 4, 4])"
            ]
          },
          "metadata": {},
          "execution_count": 18
        }
      ]
    },
    {
      "cell_type": "code",
      "metadata": {
        "id": "bn6-TY_16t-5",
        "colab": {
          "base_uri": "https://localhost:8080/"
        },
        "outputId": "36d666af-898f-4533-eaa5-e229336f2f8c"
      },
      "source": [
        "train_labels = tf.keras.utils.to_categorical(train_image_labels)\n",
        "train_labels[:10]"
      ],
      "execution_count": 19,
      "outputs": [
        {
          "output_type": "execute_result",
          "data": {
            "text/plain": [
              "array([[0., 0., 0., 0., 1., 0., 0.],\n",
              "       [0., 0., 0., 0., 1., 0., 0.],\n",
              "       [0., 0., 0., 0., 1., 0., 0.],\n",
              "       [0., 0., 0., 0., 1., 0., 0.],\n",
              "       [0., 0., 0., 0., 1., 0., 0.],\n",
              "       [0., 0., 0., 0., 1., 0., 0.],\n",
              "       [0., 0., 0., 0., 1., 0., 0.],\n",
              "       [0., 0., 0., 0., 1., 0., 0.],\n",
              "       [0., 0., 0., 0., 1., 0., 0.],\n",
              "       [0., 0., 0., 0., 1., 0., 0.]], dtype=float32)"
            ]
          },
          "metadata": {},
          "execution_count": 19
        }
      ]
    },
    {
      "cell_type": "code",
      "metadata": {
        "id": "2pN_YUHv6t7R"
      },
      "source": [
        ""
      ],
      "execution_count": null,
      "outputs": []
    },
    {
      "cell_type": "code",
      "metadata": {
        "id": "oh7ygXen6t4d"
      },
      "source": [
        ""
      ],
      "execution_count": null,
      "outputs": []
    },
    {
      "cell_type": "code",
      "metadata": {
        "id": "MiK8bXhL6t1K"
      },
      "source": [
        ""
      ],
      "execution_count": null,
      "outputs": []
    },
    {
      "cell_type": "code",
      "metadata": {
        "id": "v6dgiyoB6tyC"
      },
      "source": [
        ""
      ],
      "execution_count": null,
      "outputs": []
    },
    {
      "cell_type": "code",
      "metadata": {
        "id": "aZOloBQ66tu-"
      },
      "source": [
        ""
      ],
      "execution_count": null,
      "outputs": []
    }
  ]
}