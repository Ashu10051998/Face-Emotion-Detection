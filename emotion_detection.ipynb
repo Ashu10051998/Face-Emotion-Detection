{
  "nbformat": 4,
  "nbformat_minor": 0,
  "metadata": {
    "colab": {
      "name": "emotion detection.ipynb",
      "provenance": [],
      "mount_file_id": "195vCnRfH1rP9E-VlOK7TtG0MlI02FmiY",
      "authorship_tag": "ABX9TyNqQq7YMtpLkFuGIIEsOVWx",
      "include_colab_link": true
    },
    "kernelspec": {
      "name": "python3",
      "display_name": "Python 3"
    },
    "language_info": {
      "name": "python"
    }
  },
  "cells": [
    {
      "cell_type": "markdown",
      "metadata": {
        "id": "view-in-github",
        "colab_type": "text"
      },
      "source": [
        "<a href=\"https://colab.research.google.com/github/Ashu10051998/Face-Emotion-Detection/blob/main/emotion_detection.ipynb\" target=\"_parent\"><img src=\"https://colab.research.google.com/assets/colab-badge.svg\" alt=\"Open In Colab\"/></a>"
      ]
    },
    {
      "cell_type": "code",
      "metadata": {
        "id": "OHXewK1r45s0"
      },
      "source": [
        ""
      ],
      "execution_count": null,
      "outputs": []
    },
    {
      "cell_type": "code",
      "metadata": {
        "colab": {
          "base_uri": "https://localhost:8080/"
        },
        "id": "iUm1_ZS85B83",
        "outputId": "e5109815-9369-4e71-883b-4cf496d6a728"
      },
      "source": [
        "!wget https://www.dropbox.com/s/si11cws2pyho1bp/archive.zip"
      ],
      "execution_count": 2,
      "outputs": [
        {
          "output_type": "stream",
          "name": "stdout",
          "text": [
            "--2021-09-22 05:24:23--  https://www.dropbox.com/s/si11cws2pyho1bp/archive.zip\n",
            "Resolving www.dropbox.com (www.dropbox.com)... 162.125.5.18, 2620:100:601d:18::a27d:512\n",
            "Connecting to www.dropbox.com (www.dropbox.com)|162.125.5.18|:443... connected.\n",
            "HTTP request sent, awaiting response... 301 Moved Permanently\n",
            "Location: /s/raw/si11cws2pyho1bp/archive.zip [following]\n",
            "--2021-09-22 05:24:23--  https://www.dropbox.com/s/raw/si11cws2pyho1bp/archive.zip\n",
            "Reusing existing connection to www.dropbox.com:443.\n",
            "HTTP request sent, awaiting response... 302 Found\n",
            "Location: https://ucd899efe4c20313e85e1bab823b.dl.dropboxusercontent.com/cd/0/inline/BWqwUA9UWarnscieEjzQFTPr1ItKLOsXp5wel2O-WIqJVxF_7BK5VAmZzu7Cixp5iCOPom7iO-Zm3myah9uImTDsuxtOY1As0sjbVZHki4Cr3PBviJSwy9OZrdXG26-qTaO4P_DDJjYKWaaE_DIbOze2/file# [following]\n",
            "--2021-09-22 05:24:23--  https://ucd899efe4c20313e85e1bab823b.dl.dropboxusercontent.com/cd/0/inline/BWqwUA9UWarnscieEjzQFTPr1ItKLOsXp5wel2O-WIqJVxF_7BK5VAmZzu7Cixp5iCOPom7iO-Zm3myah9uImTDsuxtOY1As0sjbVZHki4Cr3PBviJSwy9OZrdXG26-qTaO4P_DDJjYKWaaE_DIbOze2/file\n",
            "Resolving ucd899efe4c20313e85e1bab823b.dl.dropboxusercontent.com (ucd899efe4c20313e85e1bab823b.dl.dropboxusercontent.com)... 162.125.5.15, 2620:100:601d:15::a27d:50f\n",
            "Connecting to ucd899efe4c20313e85e1bab823b.dl.dropboxusercontent.com (ucd899efe4c20313e85e1bab823b.dl.dropboxusercontent.com)|162.125.5.15|:443... connected.\n",
            "HTTP request sent, awaiting response... 302 Found\n",
            "Location: /cd/0/inline2/BWqYD6wah--oVwHE0sFRy02-O4cJeklZ_FckCpHx_j6dXixwvy-5RnKrcp0t7eHiZP9dZQOPtFNNFf3hDFtiKJQwhQIgcUpKzNhTQS9ZQf9NRrB1fHCVOfL_p_lmEMXYO-pnUEsBFJVIB3_19CuwQE-NhWVhdbfQnMwNXksGGPeICgS3xjiHFOIwE5lCUrKPpuc_plER8pDg7gM0qx0VJs8wK6KGjB4g73meTSffCq6_Jqn0cmoTbvkwQ9LBI9SkNH1yB7RM5SgpslfSm0V32RkqdvUhanyJGLLaMztZ5TtlTXSARP6_3rb7TkdDpJsQjIzLmV7ccdkqk5scGvP1_0Wu-JnuCiVGsj90FpD4TTdUEV8sMDh2OXdVAd-14s4Vyp4/file [following]\n",
            "--2021-09-22 05:24:23--  https://ucd899efe4c20313e85e1bab823b.dl.dropboxusercontent.com/cd/0/inline2/BWqYD6wah--oVwHE0sFRy02-O4cJeklZ_FckCpHx_j6dXixwvy-5RnKrcp0t7eHiZP9dZQOPtFNNFf3hDFtiKJQwhQIgcUpKzNhTQS9ZQf9NRrB1fHCVOfL_p_lmEMXYO-pnUEsBFJVIB3_19CuwQE-NhWVhdbfQnMwNXksGGPeICgS3xjiHFOIwE5lCUrKPpuc_plER8pDg7gM0qx0VJs8wK6KGjB4g73meTSffCq6_Jqn0cmoTbvkwQ9LBI9SkNH1yB7RM5SgpslfSm0V32RkqdvUhanyJGLLaMztZ5TtlTXSARP6_3rb7TkdDpJsQjIzLmV7ccdkqk5scGvP1_0Wu-JnuCiVGsj90FpD4TTdUEV8sMDh2OXdVAd-14s4Vyp4/file\n",
            "Reusing existing connection to ucd899efe4c20313e85e1bab823b.dl.dropboxusercontent.com:443.\n",
            "HTTP request sent, awaiting response... 200 OK\n",
            "Length: 63252113 (60M) [application/zip]\n",
            "Saving to: ‘archive.zip’\n",
            "\n",
            "archive.zip         100%[===================>]  60.32M  47.2MB/s    in 1.3s    \n",
            "\n",
            "2021-09-22 05:24:25 (47.2 MB/s) - ‘archive.zip’ saved [63252113/63252113]\n",
            "\n"
          ]
        }
      ]
    },
    {
      "cell_type": "code",
      "metadata": {
        "id": "UkZDxfkdl7-E"
      },
      "source": [
        "!unzip -q \"/content/archive.zip\""
      ],
      "execution_count": 3,
      "outputs": []
    },
    {
      "cell_type": "code",
      "metadata": {
        "id": "Sdu8NaFvl75-"
      },
      "source": [
        "import tensorflow as tf\n",
        "import numpy as np\n",
        "import matplotlib.pyplot as plt\n",
        "from pathlib import Path\n",
        "\n",
        "tf.random.set_seed(4)"
      ],
      "execution_count": 4,
      "outputs": []
    },
    {
      "cell_type": "code",
      "metadata": {
        "id": "FIrlWpyWmubo"
      },
      "source": [
        "# Creating the Pathlib PATH objects\n",
        "train_path = Path(\"/content/train\")\n",
        "test_path = Path(\"/content/test\")"
      ],
      "execution_count": 5,
      "outputs": []
    },
    {
      "cell_type": "code",
      "metadata": {
        "colab": {
          "base_uri": "https://localhost:8080/"
        },
        "id": "iWJA7O94l7wP",
        "outputId": "32704693-68ad-4037-bd6a-b581aa93c605"
      },
      "source": [
        "# Getting Image paths \n",
        "train_image_paths = list(train_path.glob(\"*/*\"))\n",
        "train_image_paths = list(map(lambda x : str(x) , train_image_paths))\n",
        "\n",
        "train_image_paths[:10]"
      ],
      "execution_count": 6,
      "outputs": [
        {
          "output_type": "execute_result",
          "data": {
            "text/plain": [
              "['/content/train/happy/Training_41477899.jpg',\n",
              " '/content/train/happy/Training_61706679.jpg',\n",
              " '/content/train/happy/Training_68886569.jpg',\n",
              " '/content/train/happy/Training_35728842.jpg',\n",
              " '/content/train/happy/Training_10717931.jpg',\n",
              " '/content/train/happy/Training_86039203.jpg',\n",
              " '/content/train/happy/Training_18383577.jpg',\n",
              " '/content/train/happy/Training_28198433.jpg',\n",
              " '/content/train/happy/Training_53772653.jpg',\n",
              " '/content/train/happy/Training_38756386.jpg']"
            ]
          },
          "metadata": {},
          "execution_count": 6
        }
      ]
    },
    {
      "cell_type": "code",
      "metadata": {
        "colab": {
          "base_uri": "https://localhost:8080/"
        },
        "id": "YeUzCUC3l7rk",
        "outputId": "6240d655-1366-4a39-be5c-abfe110e1fd8"
      },
      "source": [
        "# Getting their respective labels \n",
        "\n",
        "def get_label(image_path):\n",
        "    return image_path.split(\"/\")[-2]\n",
        "\n",
        "train_image_labels = list(map(lambda x : get_label(x) , train_image_paths))\n",
        "train_image_labels[:10]"
      ],
      "execution_count": 7,
      "outputs": [
        {
          "output_type": "execute_result",
          "data": {
            "text/plain": [
              "['happy',\n",
              " 'happy',\n",
              " 'happy',\n",
              " 'happy',\n",
              " 'happy',\n",
              " 'happy',\n",
              " 'happy',\n",
              " 'happy',\n",
              " 'happy',\n",
              " 'happy']"
            ]
          },
          "metadata": {},
          "execution_count": 7
        }
      ]
    },
    {
      "cell_type": "code",
      "metadata": {
        "id": "KX8MJXphl7oD"
      },
      "source": [
        "from sklearn.preprocessing import LabelEncoder "
      ],
      "execution_count": 8,
      "outputs": []
    },
    {
      "cell_type": "code",
      "metadata": {
        "colab": {
          "base_uri": "https://localhost:8080/"
        },
        "id": "B1jLE4Eol7lB",
        "outputId": "b63029a8-d833-4765-8911-a19f78a6d47b"
      },
      "source": [
        "Le = LabelEncoder()\n",
        "train_image_labels = Le.fit_transform(train_image_labels)\n",
        "train_image_labels[:10]"
      ],
      "execution_count": 9,
      "outputs": [
        {
          "output_type": "execute_result",
          "data": {
            "text/plain": [
              "array([3, 3, 3, 3, 3, 3, 3, 3, 3, 3])"
            ]
          },
          "metadata": {},
          "execution_count": 9
        }
      ]
    },
    {
      "cell_type": "code",
      "metadata": {
        "colab": {
          "base_uri": "https://localhost:8080/"
        },
        "id": "oAaBncVAl7h3",
        "outputId": "709d2140-4a93-436e-8551-e0e0cfda50fb"
      },
      "source": [
        "train_image_labels = tf.keras.utils.to_categorical(train_image_labels)\n",
        "\n",
        "train_image_labels[:10]"
      ],
      "execution_count": 10,
      "outputs": [
        {
          "output_type": "execute_result",
          "data": {
            "text/plain": [
              "array([[0., 0., 0., 1., 0., 0., 0.],\n",
              "       [0., 0., 0., 1., 0., 0., 0.],\n",
              "       [0., 0., 0., 1., 0., 0., 0.],\n",
              "       [0., 0., 0., 1., 0., 0., 0.],\n",
              "       [0., 0., 0., 1., 0., 0., 0.],\n",
              "       [0., 0., 0., 1., 0., 0., 0.],\n",
              "       [0., 0., 0., 1., 0., 0., 0.],\n",
              "       [0., 0., 0., 1., 0., 0., 0.],\n",
              "       [0., 0., 0., 1., 0., 0., 0.],\n",
              "       [0., 0., 0., 1., 0., 0., 0.]], dtype=float32)"
            ]
          },
          "metadata": {},
          "execution_count": 10
        }
      ]
    },
    {
      "cell_type": "code",
      "metadata": {
        "id": "Y_WbEt0el7e-"
      },
      "source": [
        "from sklearn.model_selection import train_test_split \n",
        "\n",
        "Train_paths , Val_paths , Train_labels , Val_labels = train_test_split(train_image_paths , train_image_labels , test_size = 0.25)"
      ],
      "execution_count": 11,
      "outputs": []
    },
    {
      "cell_type": "code",
      "metadata": {
        "colab": {
          "base_uri": "https://localhost:8080/"
        },
        "id": "Zz9uNkRil7bD",
        "outputId": "0038c18e-d904-4eec-b8bd-b09d789de910"
      },
      "source": [
        "classTotals = Train_labels.sum(axis=0)\n",
        "classWeight = classTotals.max() / classTotals\n",
        "\n",
        "class_weight = {e : weight for e , weight in enumerate(classWeight)}\n",
        "print(class_weight)"
      ],
      "execution_count": 12,
      "outputs": [
        {
          "output_type": "stream",
          "name": "stdout",
          "text": [
            "{0: 1.8151627, 1: 17.0694, 2: 1.732629, 3: 1.0, 4: 1.4577048, 5: 1.4947513, 6: 2.286016}\n"
          ]
        }
      ]
    },
    {
      "cell_type": "code",
      "metadata": {
        "id": "EtzrORWRl7Xg"
      },
      "source": [
        "# Function used for Transformation\n",
        "\n",
        "def load(image , label):\n",
        "    image = tf.io.read_file(image)\n",
        "    image = tf.io.decode_jpeg(image , channels = 3)\n",
        "    return image , label"
      ],
      "execution_count": 13,
      "outputs": []
    },
    {
      "cell_type": "code",
      "metadata": {
        "id": "EbeUVnuil7T3"
      },
      "source": [
        "# Define IMAGE SIZE and BATCH SIZE \n",
        "IMG_SIZE = 96 \n",
        "BATCH_SIZE = 32"
      ],
      "execution_count": 14,
      "outputs": []
    },
    {
      "cell_type": "code",
      "metadata": {
        "id": "ClIci23ol7Qd"
      },
      "source": [
        "# Basic Transformation\n",
        "resize = tf.keras.Sequential([tf.keras.layers.experimental.preprocessing.Resizing(IMG_SIZE, IMG_SIZE)])"
      ],
      "execution_count": 15,
      "outputs": []
    },
    {
      "cell_type": "code",
      "metadata": {
        "id": "ug4O7Kuql7Nn"
      },
      "source": [
        "# Data Augmentation\n",
        "data_augmentation = tf.keras.Sequential([\n",
        "    tf.keras.layers.experimental.preprocessing.RandomFlip(\"horizontal\"),\n",
        "    tf.keras.layers.experimental.preprocessing.RandomRotation(0.1),\n",
        "    tf.keras.layers.experimental.preprocessing.RandomZoom(height_factor = (-0.1, -0.05))\n",
        "])"
      ],
      "execution_count": 16,
      "outputs": []
    },
    {
      "cell_type": "code",
      "metadata": {
        "id": "CLNttctHrkUK"
      },
      "source": [
        "from sklearn.model_selection import train_test_split \n",
        "\n",
        "Train_paths , Val_paths , Train_labels , Val_labels = train_test_split(train_image_paths , train_image_labels , test_size = 0.25)"
      ],
      "execution_count": 17,
      "outputs": []
    },
    {
      "cell_type": "code",
      "metadata": {
        "id": "5SeUgt-7l7Kb"
      },
      "source": [
        "# Function used to Create a Tensorflow Data Object\n",
        "AUTOTUNE = tf.data.experimental.AUTOTUNE\n",
        "def get_dataset(paths , labels , train = True):\n",
        "    image_paths = tf.convert_to_tensor(paths)\n",
        "    labels = tf.convert_to_tensor(labels)\n",
        "\n",
        "    image_dataset = tf.data.Dataset.from_tensor_slices(image_paths)\n",
        "    label_dataset = tf.data.Dataset.from_tensor_slices(labels)\n",
        "\n",
        "    dataset = tf.data.Dataset.zip((image_dataset , label_dataset))\n",
        "\n",
        "    dataset = dataset.map(lambda image , label : load(image , label))\n",
        "    dataset = dataset.map(lambda image, label: (resize(image), label) , num_parallel_calls=AUTOTUNE)\n",
        "    dataset = dataset.shuffle(1000)\n",
        "    dataset = dataset.batch(BATCH_SIZE)\n",
        "\n",
        "    if train:\n",
        "        dataset = dataset.map(lambda image, label: (data_augmentation(image), label) , num_parallel_calls=AUTOTUNE)\n",
        "    \n",
        "    dataset = dataset.repeat()\n",
        "    return dataset"
      ],
      "execution_count": 18,
      "outputs": []
    },
    {
      "cell_type": "code",
      "metadata": {
        "colab": {
          "base_uri": "https://localhost:8080/"
        },
        "id": "_bnMt9ALl7HT",
        "outputId": "ff9aa045-8c10-4508-8bb1-a5269b43c2ad"
      },
      "source": [
        "# Creating Train Dataset object and Verifying it\n",
        "%time train_dataset = get_dataset(Train_paths , Train_labels)\n",
        "\n",
        "image , label = next(iter(train_dataset))\n",
        "print(image.shape)\n",
        "print(label.shape)"
      ],
      "execution_count": 19,
      "outputs": [
        {
          "output_type": "stream",
          "name": "stdout",
          "text": [
            "CPU times: user 461 ms, sys: 8.63 ms, total: 469 ms\n",
            "Wall time: 602 ms\n",
            "(32, 96, 96, 3)\n",
            "(32, 7)\n"
          ]
        }
      ]
    },
    {
      "cell_type": "code",
      "metadata": {
        "colab": {
          "base_uri": "https://localhost:8080/",
          "height": 302
        },
        "id": "voivyPaVl7EH",
        "outputId": "1c308212-1b65-452b-bc5c-b010e782f0cf"
      },
      "source": [
        "# View a sample Training Image\n",
        "print(Le.inverse_transform(np.argmax(label , axis = 1))[0])\n",
        "plt.imshow((image[0].numpy()/255).reshape(96 , 96 , 3))"
      ],
      "execution_count": 20,
      "outputs": [
        {
          "output_type": "stream",
          "name": "stdout",
          "text": [
            "fear\n"
          ]
        },
        {
          "output_type": "execute_result",
          "data": {
            "text/plain": [
              "<matplotlib.image.AxesImage at 0x7f020f72add0>"
            ]
          },
          "metadata": {},
          "execution_count": 20
        },
        {
          "output_type": "display_data",
          "data": {
            "image/png": "[encoded data removed]",
            "text/plain": [
              "<Figure size 432x288 with 1 Axes>"
            ]
          },
          "metadata": {
            "needs_background": "light"
          }
        }
      ]
    },
    {
      "cell_type": "code",
      "metadata": {
        "colab": {
          "base_uri": "https://localhost:8080/"
        },
        "id": "_hWlO_Fel7At",
        "outputId": "91b48552-ecad-4cb6-8dad-8538067b802c"
      },
      "source": [
        "%time val_dataset = get_dataset(Val_paths , Val_labels , train = False)\n",
        "\n",
        "image , label = next(iter(val_dataset))\n",
        "print(image.shape)\n",
        "print(label.shape)"
      ],
      "execution_count": 21,
      "outputs": [
        {
          "output_type": "stream",
          "name": "stdout",
          "text": [
            "CPU times: user 28.3 ms, sys: 1.87 ms, total: 30.2 ms\n",
            "Wall time: 30 ms\n",
            "(32, 96, 96, 3)\n",
            "(32, 7)\n"
          ]
        }
      ]
    },
    {
      "cell_type": "code",
      "metadata": {
        "colab": {
          "base_uri": "https://localhost:8080/"
        },
        "id": "RAIUH8j5l69e",
        "outputId": "073b0259-7161-49f2-f17f-188458269788"
      },
      "source": [
        "# Building EfficientNet model\n",
        "from tensorflow.keras.applications import EfficientNetB2\n",
        "\n",
        "backbone = EfficientNetB2(\n",
        "    input_shape=(96, 96, 3),\n",
        "    include_top=False\n",
        ")\n",
        "\n",
        "model = tf.keras.Sequential([\n",
        "    backbone,\n",
        "    tf.keras.layers.GlobalAveragePooling2D(),\n",
        "    tf.keras.layers.Dropout(0.3),\n",
        "    tf.keras.layers.Dense(128, activation='relu'),\n",
        "    tf.keras.layers.Dense(7, activation='softmax')\n",
        "])\n",
        "\n",
        "model.summary()"
      ],
      "execution_count": 22,
      "outputs": [
        {
          "output_type": "stream",
          "name": "stdout",
          "text": [
            "Downloading data from https://storage.googleapis.com/keras-applications/efficientnetb2_notop.h5\n",
            "31793152/31790344 [==============================] - 0s 0us/step\n",
            "31801344/31790344 [==============================] - 0s 0us/step\n",
            "Model: \"sequential_2\"\n",
            "_________________________________________________________________\n",
            "Layer (type)                 Output Shape              Param #   \n",
            "=================================================================\n",
            "efficientnetb2 (Functional)  (None, 3, 3, 1408)        7768569   \n",
            "_________________________________________________________________\n",
            "global_average_pooling2d (Gl (None, 1408)              0         \n",
            "_________________________________________________________________\n",
            "dropout (Dropout)            (None, 1408)              0         \n",
            "_________________________________________________________________\n",
            "dense (Dense)                (None, 128)               180352    \n",
            "_________________________________________________________________\n",
            "dense_1 (Dense)              (None, 7)                 903       \n",
            "=================================================================\n",
            "Total params: 7,949,824\n",
            "Trainable params: 7,882,249\n",
            "Non-trainable params: 67,575\n",
            "_________________________________________________________________\n"
          ]
        }
      ]
    },
    {
      "cell_type": "code",
      "metadata": {
        "id": "kM-D8MGR7nEM"
      },
      "source": [
        "model.layers[0].trainable = False"
      ],
      "execution_count": 23,
      "outputs": []
    },
    {
      "cell_type": "code",
      "metadata": {
        "id": "I0VAmi3il66f"
      },
      "source": [
        "model.compile(\n",
        "    optimizer=tf.keras.optimizers.Adam(learning_rate=0.001, beta_1=0.9, beta_2=0.999, epsilon=1e-07),\n",
        "    loss = 'categorical_crossentropy',\n",
        "    metrics=['accuracy' , tf.keras.metrics.Precision(name='precision'),tf.keras.metrics.Recall(name='recall')]\n",
        ")"
      ],
      "execution_count": 24,
      "outputs": []
    },
    {
      "cell_type": "code",
      "metadata": {
        "id": "rn3nBc4W7deL"
      },
      "source": [
        "checkpoint = tf.keras.callbacks.ModelCheckpoint(\"best_weights.h5\",verbose=1,save_best_only=True,save_weights_only = True)\n",
        "early_stop = tf.keras.callbacks.EarlyStopping(patience=4)"
      ],
      "execution_count": 25,
      "outputs": []
    },
    {
      "cell_type": "code",
      "metadata": {
        "colab": {
          "base_uri": "https://localhost:8080/"
        },
        "id": "NaxKvAuml63A",
        "outputId": "46dbcbb9-f3de-4502-94fc-11906f48060c"
      },
      "source": [
        "# Train the model\n",
        "history = model.fit(\n",
        "    train_dataset,\n",
        "    steps_per_epoch=len(Train_paths)//BATCH_SIZE,\n",
        "    epochs=12,\n",
        "    validation_data=val_dataset,\n",
        "    validation_steps = len(Val_paths)//BATCH_SIZE,\n",
        "    class_weight=class_weight\n",
        ")"
      ],
      "execution_count": 26,
      "outputs": [
        {
          "output_type": "stream",
          "name": "stdout",
          "text": [
            "Epoch 1/12\n",
            "672/672 [==============================] - 437s 636ms/step - loss: 3.0850 - accuracy: 0.3149 - precision: 0.6265 - recall: 0.0648 - val_loss: 1.5912 - val_accuracy: 0.3955 - val_precision: 0.7148 - val_recall: 0.1147\n",
            "Epoch 2/12\n",
            "672/672 [==============================] - 427s 636ms/step - loss: 2.9377 - accuracy: 0.3551 - precision: 0.6366 - recall: 0.1009 - val_loss: 1.6378 - val_accuracy: 0.3507 - val_precision: 0.7095 - val_recall: 0.1002\n",
            "Epoch 3/12\n",
            "672/672 [==============================] - 422s 628ms/step - loss: 2.8674 - accuracy: 0.3620 - precision: 0.6189 - recall: 0.1120 - val_loss: 1.6240 - val_accuracy: 0.3571 - val_precision: 0.6229 - val_recall: 0.1277\n",
            "Epoch 4/12\n",
            "672/672 [==============================] - 421s 626ms/step - loss: 2.8401 - accuracy: 0.3760 - precision: 0.6398 - recall: 0.1224 - val_loss: 1.5360 - val_accuracy: 0.4240 - val_precision: 0.7067 - val_recall: 0.1476\n",
            "Epoch 5/12\n",
            "672/672 [==============================] - 430s 641ms/step - loss: 2.8255 - accuracy: 0.3743 - precision: 0.6184 - recall: 0.1247 - val_loss: 1.5009 - val_accuracy: 0.4410 - val_precision: 0.7006 - val_recall: 0.1730\n",
            "Epoch 6/12\n",
            "672/672 [==============================] - 435s 647ms/step - loss: 2.7874 - accuracy: 0.3801 - precision: 0.6135 - recall: 0.1385 - val_loss: 1.5211 - val_accuracy: 0.4265 - val_precision: 0.7333 - val_recall: 0.1561\n",
            "Epoch 7/12\n",
            "672/672 [==============================] - 426s 634ms/step - loss: 2.7574 - accuracy: 0.3848 - precision: 0.6188 - recall: 0.1414 - val_loss: 1.5563 - val_accuracy: 0.4037 - val_precision: 0.6471 - val_recall: 0.1556\n",
            "Epoch 8/12\n",
            "672/672 [==============================] - 427s 636ms/step - loss: 2.7369 - accuracy: 0.3895 - precision: 0.6209 - recall: 0.1469 - val_loss: 1.6376 - val_accuracy: 0.3569 - val_precision: 0.5108 - val_recall: 0.1618\n",
            "Epoch 9/12\n",
            "672/672 [==============================] - 439s 653ms/step - loss: 2.7297 - accuracy: 0.3914 - precision: 0.6127 - recall: 0.1474 - val_loss: 1.5126 - val_accuracy: 0.4234 - val_precision: 0.6802 - val_recall: 0.1756\n",
            "Epoch 10/12\n",
            "672/672 [==============================] - 439s 653ms/step - loss: 2.7120 - accuracy: 0.3910 - precision: 0.6276 - recall: 0.1550 - val_loss: 1.5290 - val_accuracy: 0.4155 - val_precision: 0.6910 - val_recall: 0.1701\n",
            "Epoch 11/12\n",
            "672/672 [==============================] - 431s 642ms/step - loss: 2.6892 - accuracy: 0.4029 - precision: 0.6150 - recall: 0.1540 - val_loss: 1.4907 - val_accuracy: 0.4307 - val_precision: 0.7092 - val_recall: 0.1793\n",
            "Epoch 12/12\n",
            "672/672 [==============================] - 438s 652ms/step - loss: 2.6655 - accuracy: 0.4048 - precision: 0.6192 - recall: 0.1683 - val_loss: 1.4820 - val_accuracy: 0.4400 - val_precision: 0.6945 - val_recall: 0.1970\n"
          ]
        }
      ]
    },
    {
      "cell_type": "code",
      "metadata": {
        "id": "9wviXLpcl6zl"
      },
      "source": [
        "checkpoint = tf.keras.callbacks.ModelCheckpoint(\"best_weights.h5\",verbose=1,save_best_only=True,save_weights_only = True)\n",
        "early_stop = tf.keras.callbacks.EarlyStopping(patience=4)"
      ],
      "execution_count": 27,
      "outputs": []
    },
    {
      "cell_type": "code",
      "metadata": {
        "id": "7uxOYICd0k1R"
      },
      "source": [
        "model.layers[0].trainable = False"
      ],
      "execution_count": 28,
      "outputs": []
    },
    {
      "cell_type": "code",
      "metadata": {
        "id": "Zw47s7-y0kLi"
      },
      "source": [
        "from tensorflow.keras.applications import EfficientNetB2\n",
        "\n",
        "backbone = EfficientNetB2(\n",
        "    input_shape=(96, 96, 3),\n",
        "    include_top=False\n",
        ")\n",
        "\n",
        "model = tf.keras.Sequential([\n",
        "    backbone,\n",
        "    tf.keras.layers.GlobalAveragePooling2D(),\n",
        "    tf.keras.layers.Dropout(0.3),\n",
        "    tf.keras.layers.Dense(128, activation='relu'),\n",
        "    tf.keras.layers.Dense(7, activation='softmax')\n",
        "])\n",
        "\n",
        "model.compile(\n",
        "    optimizer=tf.keras.optimizers.Adam(learning_rate=0.001, beta_1=0.9, beta_2=0.999, epsilon=1e-07),\n",
        "    loss = 'categorical_crossentropy',\n",
        "    metrics=['accuracy' , tf.keras.metrics.Precision(name='precision'),tf.keras.metrics.Recall(name='recall')]\n",
        ")"
      ],
      "execution_count": 29,
      "outputs": []
    },
    {
      "cell_type": "code",
      "metadata": {
        "colab": {
          "base_uri": "https://localhost:8080/"
        },
        "id": "kvBnb73B8b5G",
        "outputId": "ed430a96-1362-4a69-9b78-83a9b4c90f6c"
      },
      "source": [
        "# Train the model\n",
        "history = model.fit(\n",
        "    train_dataset,\n",
        "    steps_per_epoch=len(Train_paths)//BATCH_SIZE,\n",
        "    epochs=8,\n",
        "    callbacks=[checkpoint , early_stop],\n",
        "    validation_data=val_dataset,\n",
        "    validation_steps = len(Val_paths)//BATCH_SIZE,\n",
        "    class_weight=class_weight\n",
        ")"
      ],
      "execution_count": 30,
      "outputs": [
        {
          "output_type": "stream",
          "name": "stdout",
          "text": [
            "Epoch 1/8\n",
            "672/672 [==============================] - 1654s 2s/step - loss: 2.8086 - accuracy: 0.3989 - precision: 0.6395 - recall: 0.1828 - val_loss: 1.3430 - val_accuracy: 0.4880 - val_precision: 0.6264 - val_recall: 0.3555\n",
            "\n",
            "Epoch 00001: val_loss improved from inf to 1.34303, saving model to best_weights.h5\n",
            "Epoch 2/8\n",
            "672/672 [==============================] - 1634s 2s/step - loss: 2.3935 - accuracy: 0.4907 - precision: 0.6886 - recall: 0.2837 - val_loss: 1.2555 - val_accuracy: 0.5176 - val_precision: 0.6935 - val_recall: 0.3432\n",
            "\n",
            "Epoch 00002: val_loss improved from 1.34303 to 1.25550, saving model to best_weights.h5\n",
            "Epoch 3/8\n",
            "672/672 [==============================] - 1633s 2s/step - loss: 2.2600 - accuracy: 0.5143 - precision: 0.6968 - recall: 0.3194 - val_loss: 1.2785 - val_accuracy: 0.5254 - val_precision: 0.6366 - val_recall: 0.3915\n",
            "\n",
            "Epoch 00003: val_loss did not improve from 1.25550\n",
            "Epoch 4/8\n",
            "672/672 [==============================] - 1632s 2s/step - loss: 2.1423 - accuracy: 0.5340 - precision: 0.6978 - recall: 0.3469 - val_loss: 1.1300 - val_accuracy: 0.5633 - val_precision: 0.6963 - val_recall: 0.4180\n",
            "\n",
            "Epoch 00004: val_loss improved from 1.25550 to 1.13005, saving model to best_weights.h5\n",
            "Epoch 5/8\n",
            "672/672 [==============================] - 1638s 2s/step - loss: 2.0893 - accuracy: 0.5504 - precision: 0.7086 - recall: 0.3696 - val_loss: 1.2031 - val_accuracy: 0.5356 - val_precision: 0.6540 - val_recall: 0.4138\n",
            "\n",
            "Epoch 00005: val_loss did not improve from 1.13005\n",
            "Epoch 6/8\n",
            "672/672 [==============================] - 1637s 2s/step - loss: 2.0312 - accuracy: 0.5565 - precision: 0.7114 - recall: 0.3883 - val_loss: 1.2575 - val_accuracy: 0.5378 - val_precision: 0.6346 - val_recall: 0.3917\n",
            "\n",
            "Epoch 00006: val_loss did not improve from 1.13005\n",
            "Epoch 7/8\n",
            "672/672 [==============================] - 1642s 2s/step - loss: 1.9233 - accuracy: 0.5787 - precision: 0.7147 - recall: 0.4136 - val_loss: 1.1123 - val_accuracy: 0.5745 - val_precision: 0.6918 - val_recall: 0.4431\n",
            "\n",
            "Epoch 00007: val_loss improved from 1.13005 to 1.11233, saving model to best_weights.h5\n",
            "Epoch 8/8\n",
            "672/672 [==============================] - 1637s 2s/step - loss: 1.8892 - accuracy: 0.5855 - precision: 0.7259 - recall: 0.4242 - val_loss: 1.1612 - val_accuracy: 0.5619 - val_precision: 0.6559 - val_recall: 0.4661\n",
            "\n",
            "Epoch 00008: val_loss did not improve from 1.11233\n"
          ]
        }
      ]
    },
    {
      "cell_type": "code",
      "metadata": {
        "id": "3nYpZY8bl6wv"
      },
      "source": [
        "# Create a Dataset Object for 'Testing' Set just the way we did for Training and Validation\n",
        "test_image_paths = list(test_path.glob(\"*/*\"))\n",
        "test_image_paths = list(map(lambda x : str(x) , test_image_paths))\n",
        "test_labels = list(map(lambda x : get_label(x) , test_image_paths))\n",
        "\n",
        "test_labels = Le.transform(test_labels)\n",
        "test_labels = tf.keras.utils.to_categorical(test_labels)\n",
        "\n",
        "test_image_paths = tf.convert_to_tensor(test_image_paths)\n",
        "test_labels = tf.convert_to_tensor(test_labels)\n",
        "\n",
        "def decode_image(image , label):\n",
        "    image = tf.io.read_file(image)\n",
        "    image = tf.io.decode_jpeg(image , channels = 3)\n",
        "    image = tf.image.resize(image , [96 , 96] , method=\"bilinear\")\n",
        "    return image , label\n",
        "\n",
        "test_dataset = (\n",
        "     tf.data.Dataset\n",
        "    .from_tensor_slices((test_image_paths, test_labels))\n",
        "    .map(decode_image)\n",
        "    .batch(BATCH_SIZE)\n",
        ")"
      ],
      "execution_count": 35,
      "outputs": []
    },
    {
      "cell_type": "code",
      "metadata": {
        "colab": {
          "base_uri": "https://localhost:8080/"
        },
        "id": "rGEqaA7T8GBq",
        "outputId": "03fb8694-6d1a-4aec-d9a4-48a68a2ed0e8"
      },
      "source": [
        "# Verify Test Dataset Object\n",
        "image , label = next(iter(test_dataset))\n",
        "print(image.shape)\n",
        "print(label.shape)"
      ],
      "execution_count": 32,
      "outputs": [
        {
          "output_type": "stream",
          "name": "stdout",
          "text": [
            "(32, 96, 96, 3)\n",
            "(32, 7)\n"
          ]
        }
      ]
    },
    {
      "cell_type": "code",
      "metadata": {
        "colab": {
          "base_uri": "https://localhost:8080/"
        },
        "id": "DToOChPP8F-H",
        "outputId": "8396d73f-0172-4c93-8b0c-949732b80472"
      },
      "source": [
        "# Save Model\n",
        "model.save(\"FacialExpressionModel.h5\")"
      ],
      "execution_count": 33,
      "outputs": [
        {
          "output_type": "stream",
          "name": "stderr",
          "text": [
            "/usr/local/lib/python3.7/dist-packages/keras/utils/generic_utils.py:497: CustomMaskWarning: Custom mask layers require a config and must override get_config. When loading, the custom mask layer must be passed to the custom_objects argument.\n",
            "  category=CustomMaskWarning)\n"
          ]
        }
      ]
    },
    {
      "cell_type": "code",
      "metadata": {
        "id": "7_LQUK97LNhO"
      },
      "source": [
        "# Save Label Encoder \n",
        "import pickle\n",
        "\n",
        "def save_object(obj , name):\n",
        "    pickle_obj = open(f\"{name}.pck\",\"wb\")\n",
        "    pickle.dump(obj, pickle_obj)\n",
        "    pickle_obj.close()"
      ],
      "execution_count": 37,
      "outputs": []
    },
    {
      "cell_type": "code",
      "metadata": {
        "id": "hHzx23bk8F2f"
      },
      "source": [
        "model.load_weights(\"best_weights.h5\")"
      ],
      "execution_count": 34,
      "outputs": []
    },
    {
      "cell_type": "code",
      "metadata": {
        "id": "u_RbtYbV8FzF"
      },
      "source": [
        "save_object(Le, \"LabelEncoder\")"
      ],
      "execution_count": 38,
      "outputs": []
    },
    {
      "cell_type": "code",
      "metadata": {
        "id": "tEUxBrW-8Fwy"
      },
      "source": [
        ""
      ],
      "execution_count": 33,
      "outputs": []
    },
    {
      "cell_type": "code",
      "metadata": {
        "id": "BHrEF7gi8FuG"
      },
      "source": [
        ""
      ],
      "execution_count": 33,
      "outputs": []
    }
  ]
}